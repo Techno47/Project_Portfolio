{
 "cells": [
  {
   "cell_type": "markdown",
   "metadata": {},
   "source": [
    "Importing data"
   ]
  },
  {
   "cell_type": "code",
   "execution_count": 1,
   "metadata": {},
   "outputs": [],
   "source": [
    "import pandas as pd\n",
    "\n",
    "df = pd.read_csv('anime.csv')"
   ]
  },
  {
   "cell_type": "code",
   "execution_count": 106,
   "metadata": {},
   "outputs": [
    {
     "data": {
      "text/html": [
       "<div>\n",
       "<style scoped>\n",
       "    .dataframe tbody tr th:only-of-type {\n",
       "        vertical-align: middle;\n",
       "    }\n",
       "\n",
       "    .dataframe tbody tr th {\n",
       "        vertical-align: top;\n",
       "    }\n",
       "\n",
       "    .dataframe thead th {\n",
       "        text-align: right;\n",
       "    }\n",
       "</style>\n",
       "<table border=\"1\" class=\"dataframe\">\n",
       "  <thead>\n",
       "    <tr style=\"text-align: right;\">\n",
       "      <th></th>\n",
       "      <th>anime_id</th>\n",
       "      <th>title</th>\n",
       "      <th>type</th>\n",
       "      <th>score</th>\n",
       "      <th>scored_by</th>\n",
       "      <th>status</th>\n",
       "      <th>episodes</th>\n",
       "      <th>start_date</th>\n",
       "      <th>end_date</th>\n",
       "      <th>source</th>\n",
       "      <th>members</th>\n",
       "      <th>favorites</th>\n",
       "      <th>episode_duration</th>\n",
       "      <th>total_duration</th>\n",
       "      <th>rating</th>\n",
       "      <th>sfw</th>\n",
       "      <th>approved</th>\n",
       "      <th>created_at</th>\n",
       "      <th>updated_at</th>\n",
       "      <th>start_year</th>\n",
       "      <th>start_season</th>\n",
       "      <th>real_start_date</th>\n",
       "      <th>real_end_date</th>\n",
       "      <th>broadcast_day</th>\n",
       "      <th>broadcast_time</th>\n",
       "      <th>genres</th>\n",
       "      <th>themes</th>\n",
       "      <th>demographics</th>\n",
       "      <th>studios</th>\n",
       "      <th>producers</th>\n",
       "      <th>licensors</th>\n",
       "      <th>synopsis</th>\n",
       "      <th>background</th>\n",
       "      <th>main_picture</th>\n",
       "      <th>url</th>\n",
       "      <th>title_english</th>\n",
       "      <th>title_synonyms</th>\n",
       "    </tr>\n",
       "  </thead>\n",
       "  <tbody>\n",
       "    <tr>\n",
       "      <th>0</th>\n",
       "      <td>5114</td>\n",
       "      <td>Fullmetal Alchemist: Brotherhood</td>\n",
       "      <td>tv</td>\n",
       "      <td>9.1</td>\n",
       "      <td>2037075</td>\n",
       "      <td>finished_airing</td>\n",
       "      <td>64</td>\n",
       "      <td>05-04-09</td>\n",
       "      <td>04-07-10</td>\n",
       "      <td>manga</td>\n",
       "      <td>3206028</td>\n",
       "      <td>219036</td>\n",
       "      <td>0 days 00:24:20</td>\n",
       "      <td>1 days 01:57:20</td>\n",
       "      <td>r</td>\n",
       "      <td>True</td>\n",
       "      <td>True</td>\n",
       "      <td>2008-08-21 03:35:22+00:00</td>\n",
       "      <td>2023-04-02 18:07:03+00:00</td>\n",
       "      <td>2009</td>\n",
       "      <td>spring</td>\n",
       "      <td>05-04-09</td>\n",
       "      <td>04-07-10</td>\n",
       "      <td>sunday</td>\n",
       "      <td>17:00:00</td>\n",
       "      <td>['Action', 'Adventure', 'Drama', 'Fantasy']</td>\n",
       "      <td>['Military']</td>\n",
       "      <td>['Shounen']</td>\n",
       "      <td>['Bones']</td>\n",
       "      <td>['Aniplex', 'Square Enix', 'Mainichi Broadcast...</td>\n",
       "      <td>['Funimation', 'Aniplex of America']</td>\n",
       "      <td>After a horrific alchemy experiment goes wrong...</td>\n",
       "      <td>NaN</td>\n",
       "      <td>https://cdn.myanimelist.net/images/anime/1208/...</td>\n",
       "      <td>https://myanimelist.net/anime/5114/Fullmetal_A...</td>\n",
       "      <td>Fullmetal Alchemist: Brotherhood</td>\n",
       "      <td>['Hagane no Renkinjutsushi: Fullmetal Alchemis...</td>\n",
       "    </tr>\n",
       "  </tbody>\n",
       "</table>\n",
       "</div>"
      ],
      "text/plain": [
       "   anime_id                             title type  score  scored_by  \\\n",
       "0      5114  Fullmetal Alchemist: Brotherhood   tv    9.1    2037075   \n",
       "\n",
       "            status  episodes start_date  end_date source  members  favorites  \\\n",
       "0  finished_airing        64   05-04-09  04-07-10  manga  3206028     219036   \n",
       "\n",
       "  episode_duration   total_duration rating   sfw  approved  \\\n",
       "0  0 days 00:24:20  1 days 01:57:20      r  True      True   \n",
       "\n",
       "                  created_at                 updated_at  start_year  \\\n",
       "0  2008-08-21 03:35:22+00:00  2023-04-02 18:07:03+00:00        2009   \n",
       "\n",
       "  start_season real_start_date real_end_date broadcast_day broadcast_time  \\\n",
       "0       spring        05-04-09      04-07-10        sunday       17:00:00   \n",
       "\n",
       "                                        genres        themes demographics  \\\n",
       "0  ['Action', 'Adventure', 'Drama', 'Fantasy']  ['Military']  ['Shounen']   \n",
       "\n",
       "     studios                                          producers  \\\n",
       "0  ['Bones']  ['Aniplex', 'Square Enix', 'Mainichi Broadcast...   \n",
       "\n",
       "                              licensors  \\\n",
       "0  ['Funimation', 'Aniplex of America']   \n",
       "\n",
       "                                            synopsis background  \\\n",
       "0  After a horrific alchemy experiment goes wrong...        NaN   \n",
       "\n",
       "                                        main_picture  \\\n",
       "0  https://cdn.myanimelist.net/images/anime/1208/...   \n",
       "\n",
       "                                                 url  \\\n",
       "0  https://myanimelist.net/anime/5114/Fullmetal_A...   \n",
       "\n",
       "                      title_english  \\\n",
       "0  Fullmetal Alchemist: Brotherhood   \n",
       "\n",
       "                                      title_synonyms  \n",
       "0  ['Hagane no Renkinjutsushi: Fullmetal Alchemis...  "
      ]
     },
     "execution_count": 106,
     "metadata": {},
     "output_type": "execute_result"
    }
   ],
   "source": [
    "df.head(1)"
   ]
  },
  {
   "cell_type": "markdown",
   "metadata": {},
   "source": [
    "Data Cleaning"
   ]
  },
  {
   "cell_type": "code",
   "execution_count": 7,
   "metadata": {},
   "outputs": [],
   "source": [
    "## Drop unwanted columns\n",
    "df.drop(columns='trailer_url', axis = 1, inplace=True)"
   ]
  },
  {
   "cell_type": "code",
   "execution_count": null,
   "metadata": {},
   "outputs": [],
   "source": [
    "## Change data type, fill NaNs with 0 + display changed data type\n",
    "df['episodes'] = df['episodes'].fillna(0).astype(int)\n",
    "\n",
    "df['start_year'] = df['start_year'].fillna(0).astype(int)\n",
    "\n",
    "display(df.dtypes)"
   ]
  },
  {
   "cell_type": "code",
   "execution_count": 164,
   "metadata": {},
   "outputs": [],
   "source": [
    "## Display all columns\n",
    "pd.options.display.max_columns = None\n",
    "\n",
    "pd.set_option('display.max_columns', None)\n",
    "\n",
    "pd.set_option('display.width', None)\n",
    "\n",
    "# display full row without truncation\n",
    "pd.set_option('display.max_colwidth', None)\n",
    "\n",
    "## Reset all\n",
    "pd.reset_option('^display.', silent=True)\n"
   ]
  },
  {
   "cell_type": "markdown",
   "metadata": {},
   "source": [
    "EDA\n"
   ]
  },
  {
   "cell_type": "code",
   "execution_count": null,
   "metadata": {},
   "outputs": [],
   "source": [
    "## Display all cols\n",
    "df.columns"
   ]
  },
  {
   "cell_type": "code",
   "execution_count": null,
   "metadata": {},
   "outputs": [],
   "source": [
    "## Data overview\n",
    "df.info()"
   ]
  },
  {
   "cell_type": "code",
   "execution_count": null,
   "metadata": {},
   "outputs": [],
   "source": [
    "## Stats\n",
    "round(df.describe(), 2)"
   ]
  },
  {
   "cell_type": "code",
   "execution_count": null,
   "metadata": {},
   "outputs": [],
   "source": [
    "## Check for cols with nulls\n",
    "df.isnull().any(axis=0)"
   ]
  },
  {
   "cell_type": "code",
   "execution_count": null,
   "metadata": {},
   "outputs": [],
   "source": [
    "## Sum of nulls\n",
    "df.isnull().sum()"
   ]
  },
  {
   "cell_type": "code",
   "execution_count": null,
   "metadata": {},
   "outputs": [],
   "source": [
    "## Check for nulls in one col\n",
    "df[df['score'].isnull()]\n",
    "\n",
    "## Check for nulls in entire df\n",
    "df[df.isna().any(axis=1)]"
   ]
  },
  {
   "cell_type": "code",
   "execution_count": null,
   "metadata": {},
   "outputs": [],
   "source": [
    "# Sum of duplicates\n",
    "df.duplicated().sum()"
   ]
  },
  {
   "cell_type": "code",
   "execution_count": null,
   "metadata": {},
   "outputs": [],
   "source": [
    "# Type Count\n",
    "df['type'].value_counts()"
   ]
  },
  {
   "cell_type": "code",
   "execution_count": null,
   "metadata": {},
   "outputs": [],
   "source": [
    "## Find most popular anime and rank it\n",
    "\n",
    "## Sort the DataFrame by total_members in descending order\n",
    "anime_data_sorted = df.sort_values(by='members', ascending=False)\n",
    "\n",
    "## Reset the index to start from 1\n",
    "anime_data_sorted.index = range(1, len(anime_data_sorted) + 1)\n",
    "\n",
    "## Add a new column for rank\n",
    "anime_data_sorted['rank'] = anime_data_sorted.index\n",
    "\n",
    "print(anime_data_sorted)"
   ]
  },
  {
   "cell_type": "code",
   "execution_count": null,
   "metadata": {},
   "outputs": [],
   "source": [
    "# Data duration\n",
    "min_value = df['start_date'].min()\n",
    "max_value = df['end_date'].max()\n",
    "\n",
    "df['start_date'].describe()"
   ]
  },
  {
   "cell_type": "code",
   "execution_count": null,
   "metadata": {},
   "outputs": [],
   "source": [
    "## Top 20 anime\n",
    "df.sort_values(by='score',ascending=False).head(20)"
   ]
  },
  {
   "cell_type": "code",
   "execution_count": 169,
   "metadata": {},
   "outputs": [],
   "source": [
    "# Import data to new csv\n",
    "df.to_csv('animez.csv')"
   ]
  },
  {
   "cell_type": "code",
   "execution_count": null,
   "metadata": {},
   "outputs": [],
   "source": [
    "df.head()"
   ]
  }
 ],
 "metadata": {
  "kernelspec": {
   "display_name": "Python 3",
   "language": "python",
   "name": "python3"
  },
  "language_info": {
   "codemirror_mode": {
    "name": "ipython",
    "version": 3
   },
   "file_extension": ".py",
   "mimetype": "text/x-python",
   "name": "python",
   "nbconvert_exporter": "python",
   "pygments_lexer": "ipython3",
   "version": "3.11.1"
  }
 },
 "nbformat": 4,
 "nbformat_minor": 2
}
